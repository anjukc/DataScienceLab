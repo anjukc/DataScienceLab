{
  "nbformat": 4,
  "nbformat_minor": 0,
  "metadata": {
    "colab": {
      "provenance": [],
      "authorship_tag": "ABX9TyN7lHUK3h83qXtHx9XYZiTT",
      "include_colab_link": true
    },
    "kernelspec": {
      "name": "python3",
      "display_name": "Python 3"
    },
    "language_info": {
      "name": "python"
    }
  },
  "cells": [
    {
      "cell_type": "markdown",
      "metadata": {
        "id": "view-in-github",
        "colab_type": "text"
      },
      "source": [
        "<a href=\"https://colab.research.google.com/github/anjukc/DataScienceLab/blob/main/partsofspeech.ipynb\" target=\"_parent\"><img src=\"https://colab.research.google.com/assets/colab-badge.svg\" alt=\"Open In Colab\"/></a>"
      ]
    },
    {
      "cell_type": "code",
      "execution_count": 18,
      "metadata": {
        "colab": {
          "base_uri": "https://localhost:8080/"
        },
        "id": "uesbDmyYuC2V",
        "outputId": "0cde813f-d651-4146-bd98-7969de016951"
      },
      "outputs": [
        {
          "output_type": "stream",
          "name": "stderr",
          "text": [
            "[nltk_data] Downloading package punkt to /root/nltk_data...\n",
            "[nltk_data]   Package punkt is already up-to-date!\n",
            "[nltk_data] Downloading package averaged_perceptron_tagger to\n",
            "[nltk_data]     /root/nltk_data...\n",
            "[nltk_data]   Package averaged_perceptron_tagger is already up-to-\n",
            "[nltk_data]       date!\n"
          ]
        }
      ],
      "source": [
        "import nltk\n",
        "nltk.download('punkt')\n",
        "nltk.download('averaged_perceptron_tagger')\n",
        "from nltk.corpus import stopwords\n",
        "from nltk.tokenize import word_tokenize,sent_tokenize\n",
        "stop_words=set(stopwords.words('english'))\n",
        "txt=\"Nandu is a superkid\"\n",
        "tokenized=sent_tokenize(txt)\n"
      ]
    },
    {
      "cell_type": "code",
      "source": [
        "for i in tokenized:\n",
        "  wordsList=nltk.word_tokenize(i)\n",
        "  wordList=[w for w in wordsList if not w in stop_words]"
      ],
      "metadata": {
        "id": "69N7AwvW8Jyb"
      },
      "execution_count": 16,
      "outputs": []
    },
    {
      "cell_type": "code",
      "source": [
        "tagged=nltk.pos_tag(wordsList)"
      ],
      "metadata": {
        "id": "yqGVfIl09eXY"
      },
      "execution_count": 13,
      "outputs": []
    },
    {
      "cell_type": "code",
      "source": [
        "print(tagged)"
      ],
      "metadata": {
        "colab": {
          "base_uri": "https://localhost:8080/"
        },
        "id": "9r1EkbT2-hFA",
        "outputId": "62f3fd83-b796-411c-91d3-6963547fe766"
      },
      "execution_count": 17,
      "outputs": [
        {
          "output_type": "stream",
          "name": "stdout",
          "text": [
            "[('Nandu', 'NNP'), ('is', 'VBZ'), ('a', 'DT'), ('suprkid', 'NN')]\n"
          ]
        }
      ]
    }
  ]
}