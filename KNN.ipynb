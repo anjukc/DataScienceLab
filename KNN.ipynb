{
  "nbformat": 4,
  "nbformat_minor": 0,
  "metadata": {
    "colab": {
      "name": "Untitled4.ipynb",
      "provenance": [],
      "authorship_tag": "ABX9TyOW6AGYRN4S3o6SxlzEO/Dx",
      "include_colab_link": true
    },
    "kernelspec": {
      "name": "python3",
      "display_name": "Python 3"
    },
    "language_info": {
      "name": "python"
    }
  },
  "cells": [
    {
      "cell_type": "markdown",
      "metadata": {
        "id": "view-in-github",
        "colab_type": "text"
      },
      "source": [
        "<a href=\"https://colab.research.google.com/github/anjukc/DataScienceLab/blob/main/KNN.ipynb\" target=\"_parent\"><img src=\"https://colab.research.google.com/assets/colab-badge.svg\" alt=\"Open In Colab\"/></a>"
      ]
    },
    {
      "cell_type": "code",
      "execution_count": 11,
      "metadata": {
        "id": "TbXi30WLguGl"
      },
      "outputs": [],
      "source": [
        "import pandas as pd\n",
        "import numpy as np\n",
        "import matplotlib.pyplot as plt\n",
        "import seaborn as sns"
      ]
    },
    {
      "cell_type": "code",
      "source": [
        "dataset=pd.read_csv('sonar.all-data.csv')"
      ],
      "metadata": {
        "id": "uNgnIDrHjHR4"
      },
      "execution_count": 12,
      "outputs": []
    },
    {
      "cell_type": "code",
      "source": [
        "from sklearn.preprocessing import StandardScaler"
      ],
      "metadata": {
        "id": "XiEn57nsiEDL"
      },
      "execution_count": 5,
      "outputs": []
    },
    {
      "cell_type": "code",
      "source": [
        "scaler=StandardScaler()"
      ],
      "metadata": {
        "id": "1PvLurwCh8ik"
      },
      "execution_count": 6,
      "outputs": []
    },
    {
      "cell_type": "code",
      "source": [
        "scaler.fit(dataset.drop('R',axis=1))"
      ],
      "metadata": {
        "colab": {
          "base_uri": "https://localhost:8080/"
        },
        "id": "ojGwOGSZiaL3",
        "outputId": "17c36e44-b7b7-47e0-b5bd-6d514b074c2f"
      },
      "execution_count": 13,
      "outputs": [
        {
          "output_type": "execute_result",
          "data": {
            "text/plain": [
              "StandardScaler()"
            ]
          },
          "metadata": {},
          "execution_count": 13
        }
      ]
    },
    {
      "cell_type": "code",
      "source": [
        "scaled_features=scaler.transform(dataset.drop('R',axis=1))"
      ],
      "metadata": {
        "id": "0CNRp2bDik8n"
      },
      "execution_count": 14,
      "outputs": []
    },
    {
      "cell_type": "code",
      "source": [
        "scaled_features"
      ],
      "metadata": {
        "colab": {
          "base_uri": "https://localhost:8080/"
        },
        "id": "n0EG2VKQkbnw",
        "outputId": "8e2c2949-782d-4e39-9dad-40ccb2e35950"
      },
      "execution_count": 15,
      "outputs": [
        {
          "output_type": "execute_result",
          "data": {
            "text/plain": [
              "array([[ 0.70018948,  0.42042142,  1.0529498 , ..., -0.4709383 ,\n",
              "        -0.44268846, -0.42246083],\n",
              "       [-0.13089402,  0.59942737,  1.71912994, ...,  1.30656071,\n",
              "         0.25299833,  0.25405324],\n",
              "       [-0.83579208, -0.64754631,  0.48045125, ..., -0.54822087,\n",
              "        -0.63683361,  1.03005467],\n",
              "       ...,\n",
              "       [ 1.00042384,  0.15949749, -0.67235266, ...,  0.90469137,\n",
              "        -0.0382194 , -0.68112798],\n",
              "       [ 0.0475061 , -0.09535845,  0.13434985, ..., -0.00724291,\n",
              "        -0.70154866, -0.34287094],\n",
              "       [-0.13959647, -0.06501846, -0.78685237, ..., -0.67187297,\n",
              "        -0.2970796 ,  0.99025973]])"
            ]
          },
          "metadata": {},
          "execution_count": 15
        }
      ]
    },
    {
      "cell_type": "code",
      "source": [],
      "metadata": {
        "id": "_lLX4R9kkf5P"
      },
      "execution_count": null,
      "outputs": []
    }
  ]
}