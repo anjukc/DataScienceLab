{
  "nbformat": 4,
  "nbformat_minor": 0,
  "metadata": {
    "colab": {
      "provenance": [],
      "include_colab_link": true
    },
    "kernelspec": {
      "name": "python3",
      "display_name": "Python 3"
    },
    "language_info": {
      "name": "python"
    }
  },
  "cells": [
    {
      "cell_type": "markdown",
      "metadata": {
        "id": "view-in-github",
        "colab_type": "text"
      },
      "source": [
        "<a href=\"https://colab.research.google.com/github/anjukc/DataScienceLab/blob/main/svm.ipynb\" target=\"_parent\"><img src=\"https://colab.research.google.com/assets/colab-badge.svg\" alt=\"Open In Colab\"/></a>"
      ]
    },
    {
      "cell_type": "code",
      "execution_count": 3,
      "metadata": {
        "id": "Bbm78-jnpIq_"
      },
      "outputs": [],
      "source": [
        "import nltk #natural language tool kit\n",
        "import pandas as pd"
      ]
    },
    {
      "cell_type": "code",
      "source": [
        "nltk.download_shell()#the nltk corpus and module downloader.\n",
        "                      "
      ],
      "metadata": {
        "colab": {
          "base_uri": "https://localhost:8080/"
        },
        "id": "F3ezmuox1oyc",
        "outputId": "5a6108ca-1bcc-4c02-ebba-d9fd3d8202cb"
      },
      "execution_count": 4,
      "outputs": [
        {
          "name": "stdout",
          "output_type": "stream",
          "text": [
            "NLTK Downloader\n",
            "---------------------------------------------------------------------------\n",
            "    d) Download   l) List    u) Update   c) Config   h) Help   q) Quit\n",
            "---------------------------------------------------------------------------\n",
            "Downloader> l\n",
            "\n",
            "Packages:\n",
            "  [ ] abc................. Australian Broadcasting Commission 2006\n",
            "  [ ] alpino.............. Alpino Dutch Treebank\n",
            "  [ ] averaged_perceptron_tagger Averaged Perceptron Tagger\n",
            "  [ ] averaged_perceptron_tagger_ru Averaged Perceptron Tagger (Russian)\n",
            "  [ ] basque_grammars..... Grammars for Basque\n",
            "  [ ] biocreative_ppi..... BioCreAtIvE (Critical Assessment of Information\n",
            "                           Extraction Systems in Biology)\n",
            "  [ ] bllip_wsj_no_aux.... BLLIP Parser: WSJ Model\n",
            "  [ ] book_grammars....... Grammars from NLTK Book\n",
            "  [ ] brown............... Brown Corpus\n",
            "  [ ] brown_tei........... Brown Corpus (TEI XML Version)\n",
            "  [ ] cess_cat............ CESS-CAT Treebank\n",
            "  [ ] cess_esp............ CESS-ESP Treebank\n",
            "  [ ] chat80.............. Chat-80 Data Files\n",
            "  [ ] city_database....... City Database\n",
            "  [ ] cmudict............. The Carnegie Mellon Pronouncing Dictionary (0.6)\n",
            "  [ ] comparative_sentences Comparative Sentence Dataset\n",
            "  [ ] comtrans............ ComTrans Corpus Sample\n",
            "  [ ] conll2000........... CONLL 2000 Chunking Corpus\n",
            "  [ ] conll2002........... CONLL 2002 Named Entity Recognition Corpus\n",
            "Hit Enter to continue: \n",
            "  [ ] conll2007........... Dependency Treebanks from CoNLL 2007 (Catalan\n",
            "                           and Basque Subset)\n",
            "  [ ] crubadan............ Crubadan Corpus\n",
            "  [ ] dependency_treebank. Dependency Parsed Treebank\n",
            "  [ ] dolch............... Dolch Word List\n",
            "  [ ] europarl_raw........ Sample European Parliament Proceedings Parallel\n",
            "                           Corpus\n",
            "  [ ] extended_omw........ Extended Open Multilingual WordNet\n",
            "  [ ] floresta............ Portuguese Treebank\n",
            "  [ ] framenet_v15........ FrameNet 1.5\n",
            "  [ ] framenet_v17........ FrameNet 1.7\n",
            "  [ ] gazetteers.......... Gazeteer Lists\n",
            "  [ ] genesis............. Genesis Corpus\n",
            "  [ ] gutenberg........... Project Gutenberg Selections\n",
            "  [ ] ieer................ NIST IE-ER DATA SAMPLE\n",
            "  [ ] inaugural........... C-Span Inaugural Address Corpus\n",
            "  [ ] indian.............. Indian Language POS-Tagged Corpus\n",
            "  [ ] jeita............... JEITA Public Morphologically Tagged Corpus (in\n",
            "                           ChaSen format)\n",
            "  [ ] kimmo............... PC-KIMMO Data Files\n",
            "  [ ] knbc................ KNB Corpus (Annotated blog corpus)\n",
            "Hit Enter to continue: d\n",
            "  [ ] large_grammars...... Large context-free and feature-based grammars\n",
            "                           for parser comparison\n",
            "  [ ] lin_thesaurus....... Lin's Dependency Thesaurus\n",
            "  [ ] mac_morpho.......... MAC-MORPHO: Brazilian Portuguese news text with\n",
            "                           part-of-speech tags\n",
            "  [ ] machado............. Machado de Assis -- Obra Completa\n",
            "  [ ] masc_tagged......... MASC Tagged Corpus\n",
            "  [ ] maxent_ne_chunker... ACE Named Entity Chunker (Maximum entropy)\n",
            "  [ ] maxent_treebank_pos_tagger Treebank Part of Speech Tagger (Maximum entropy)\n",
            "  [ ] moses_sample........ Moses Sample Models\n",
            "  [ ] movie_reviews....... Sentiment Polarity Dataset Version 2.0\n",
            "  [ ] mte_teip5........... MULTEXT-East 1984 annotated corpus 4.0\n",
            "  [ ] mwa_ppdb............ The monolingual word aligner (Sultan et al.\n",
            "                           2015) subset of the Paraphrase Database.\n",
            "  [ ] names............... Names Corpus, Version 1.3 (1994-03-29)\n",
            "  [ ] nombank.1.0......... NomBank Corpus 1.0\n",
            "  [ ] nonbreaking_prefixes Non-Breaking Prefixes (Moses Decoder)\n",
            "  [ ] nps_chat............ NPS Chat\n",
            "  [ ] omw-1.4............. Open Multilingual Wordnet\n",
            "  [ ] omw................. Open Multilingual Wordnet\n",
            "  [ ] opinion_lexicon..... Opinion Lexicon\n",
            "Hit Enter to continue: q\n",
            "\n",
            "---------------------------------------------------------------------------\n",
            "    d) Download   l) List    u) Update   c) Config   h) Help   q) Quit\n",
            "---------------------------------------------------------------------------\n",
            "Downloader> q\n"
          ]
        }
      ]
    },
    {
      "cell_type": "code",
      "source": [
        "messages=[line.rstrip() for line in open('/content/SMSSpamCollection')]# rstrip() method removes any trailing characters"
      ],
      "metadata": {
        "id": "STRya78l2v5C"
      },
      "execution_count": 5,
      "outputs": []
    },
    {
      "cell_type": "code",
      "source": [
        "print(len(messages))#len of words stored in message after rstrip"
      ],
      "metadata": {
        "colab": {
          "base_uri": "https://localhost:8080/"
        },
        "id": "U0KCwqh327sH",
        "outputId": "5e82962c-65aa-4926-8368-2f8511513363"
      },
      "execution_count": 6,
      "outputs": [
        {
          "output_type": "stream",
          "name": "stdout",
          "text": [
            "5574\n"
          ]
        }
      ]
    },
    {
      "cell_type": "code",
      "source": [
        "messages[0]"
      ],
      "metadata": {
        "colab": {
          "base_uri": "https://localhost:8080/",
          "height": 35
        },
        "id": "8V_jCecV3ALN",
        "outputId": "03908d67-3699-4ce4-da0b-18a37f557498"
      },
      "execution_count": 7,
      "outputs": [
        {
          "output_type": "execute_result",
          "data": {
            "text/plain": [
              "'ham\\tGo until jurong point, crazy.. Available only in bugis n great world la e buffet... Cine there got amore wat...'"
            ],
            "application/vnd.google.colaboratory.intrinsic+json": {
              "type": "string"
            }
          },
          "metadata": {},
          "execution_count": 7
        }
      ]
    },
    {
      "cell_type": "code",
      "source": [
        "for mess_no,message in enumerate(messages[:10]):\n",
        "  print(mess_no,message)\n",
        "  print('\\n')"
      ],
      "metadata": {
        "colab": {
          "base_uri": "https://localhost:8080/"
        },
        "id": "f7fmB9V73CQG",
        "outputId": "07f4f3c9-5d10-4c54-e5a3-54bf6431be67"
      },
      "execution_count": 8,
      "outputs": [
        {
          "output_type": "stream",
          "name": "stdout",
          "text": [
            "0 ham\tGo until jurong point, crazy.. Available only in bugis n great world la e buffet... Cine there got amore wat...\n",
            "\n",
            "\n",
            "1 ham\tOk lar... Joking wif u oni...\n",
            "\n",
            "\n",
            "2 spam\tFree entry in 2 a wkly comp to win FA Cup final tkts 21st May 2005. Text FA to 87121 to receive entry question(std txt rate)T&C's apply 08452810075over18's\n",
            "\n",
            "\n",
            "3 ham\tU dun say so early hor... U c already then say...\n",
            "\n",
            "\n",
            "4 ham\tNah I don't think he goes to usf, he lives around here though\n",
            "\n",
            "\n",
            "5 spam\tFreeMsg Hey there darling it's been 3 week's now and no word back! I'd like some fun you up for it still? Tb ok! XxX std chgs to send, £1.50 to rcv\n",
            "\n",
            "\n",
            "6 ham\tEven my brother is not like to speak with me. They treat me like aids patent.\n",
            "\n",
            "\n",
            "7 ham\tAs per your request 'Melle Melle (Oru Minnaminunginte Nurungu Vettam)' has been set as your callertune for all Callers. Press *9 to copy your friends Callertune\n",
            "\n",
            "\n",
            "8 spam\tWINNER!! As a valued network customer you have been selected to receivea £900 prize reward! To claim call 09061701461. Claim code KL341. Valid 12 hours only.\n",
            "\n",
            "\n",
            "9 spam\tHad your mobile 11 months or more? U R entitled to Update to the latest colour mobiles with camera for Free! Call The Mobile Update Co FREE on 08002986030\n",
            "\n",
            "\n"
          ]
        }
      ]
    },
    {
      "cell_type": "code",
      "source": [
        "messages=pd.read_csv('/content/SMSSpamCollection',sep='\\t',names=['label','message'])"
      ],
      "metadata": {
        "id": "pqMClHJC4FnA"
      },
      "execution_count": 9,
      "outputs": []
    },
    {
      "cell_type": "code",
      "source": [
        "messages.head()"
      ],
      "metadata": {
        "colab": {
          "base_uri": "https://localhost:8080/",
          "height": 206
        },
        "id": "a6ThX9A-5C_c",
        "outputId": "7dbdc9de-d010-470f-9724-bcde9a21f40b"
      },
      "execution_count": 10,
      "outputs": [
        {
          "output_type": "execute_result",
          "data": {
            "text/plain": [
              "  label                                            message\n",
              "0   ham  Go until jurong point, crazy.. Available only ...\n",
              "1   ham                      Ok lar... Joking wif u oni...\n",
              "2  spam  Free entry in 2 a wkly comp to win FA Cup fina...\n",
              "3   ham  U dun say so early hor... U c already then say...\n",
              "4   ham  Nah I don't think he goes to usf, he lives aro..."
            ],
            "text/html": [
              "\n",
              "  <div id=\"df-2e345a0b-9b04-464a-b347-8ee5877ff80a\">\n",
              "    <div class=\"colab-df-container\">\n",
              "      <div>\n",
              "<style scoped>\n",
              "    .dataframe tbody tr th:only-of-type {\n",
              "        vertical-align: middle;\n",
              "    }\n",
              "\n",
              "    .dataframe tbody tr th {\n",
              "        vertical-align: top;\n",
              "    }\n",
              "\n",
              "    .dataframe thead th {\n",
              "        text-align: right;\n",
              "    }\n",
              "</style>\n",
              "<table border=\"1\" class=\"dataframe\">\n",
              "  <thead>\n",
              "    <tr style=\"text-align: right;\">\n",
              "      <th></th>\n",
              "      <th>label</th>\n",
              "      <th>message</th>\n",
              "    </tr>\n",
              "  </thead>\n",
              "  <tbody>\n",
              "    <tr>\n",
              "      <th>0</th>\n",
              "      <td>ham</td>\n",
              "      <td>Go until jurong point, crazy.. Available only ...</td>\n",
              "    </tr>\n",
              "    <tr>\n",
              "      <th>1</th>\n",
              "      <td>ham</td>\n",
              "      <td>Ok lar... Joking wif u oni...</td>\n",
              "    </tr>\n",
              "    <tr>\n",
              "      <th>2</th>\n",
              "      <td>spam</td>\n",
              "      <td>Free entry in 2 a wkly comp to win FA Cup fina...</td>\n",
              "    </tr>\n",
              "    <tr>\n",
              "      <th>3</th>\n",
              "      <td>ham</td>\n",
              "      <td>U dun say so early hor... U c already then say...</td>\n",
              "    </tr>\n",
              "    <tr>\n",
              "      <th>4</th>\n",
              "      <td>ham</td>\n",
              "      <td>Nah I don't think he goes to usf, he lives aro...</td>\n",
              "    </tr>\n",
              "  </tbody>\n",
              "</table>\n",
              "</div>\n",
              "      <button class=\"colab-df-convert\" onclick=\"convertToInteractive('df-2e345a0b-9b04-464a-b347-8ee5877ff80a')\"\n",
              "              title=\"Convert this dataframe to an interactive table.\"\n",
              "              style=\"display:none;\">\n",
              "        \n",
              "  <svg xmlns=\"http://www.w3.org/2000/svg\" height=\"24px\"viewBox=\"0 0 24 24\"\n",
              "       width=\"24px\">\n",
              "    <path d=\"M0 0h24v24H0V0z\" fill=\"none\"/>\n",
              "    <path d=\"M18.56 5.44l.94 2.06.94-2.06 2.06-.94-2.06-.94-.94-2.06-.94 2.06-2.06.94zm-11 1L8.5 8.5l.94-2.06 2.06-.94-2.06-.94L8.5 2.5l-.94 2.06-2.06.94zm10 10l.94 2.06.94-2.06 2.06-.94-2.06-.94-.94-2.06-.94 2.06-2.06.94z\"/><path d=\"M17.41 7.96l-1.37-1.37c-.4-.4-.92-.59-1.43-.59-.52 0-1.04.2-1.43.59L10.3 9.45l-7.72 7.72c-.78.78-.78 2.05 0 2.83L4 21.41c.39.39.9.59 1.41.59.51 0 1.02-.2 1.41-.59l7.78-7.78 2.81-2.81c.8-.78.8-2.07 0-2.86zM5.41 20L4 18.59l7.72-7.72 1.47 1.35L5.41 20z\"/>\n",
              "  </svg>\n",
              "      </button>\n",
              "      \n",
              "  <style>\n",
              "    .colab-df-container {\n",
              "      display:flex;\n",
              "      flex-wrap:wrap;\n",
              "      gap: 12px;\n",
              "    }\n",
              "\n",
              "    .colab-df-convert {\n",
              "      background-color: #E8F0FE;\n",
              "      border: none;\n",
              "      border-radius: 50%;\n",
              "      cursor: pointer;\n",
              "      display: none;\n",
              "      fill: #1967D2;\n",
              "      height: 32px;\n",
              "      padding: 0 0 0 0;\n",
              "      width: 32px;\n",
              "    }\n",
              "\n",
              "    .colab-df-convert:hover {\n",
              "      background-color: #E2EBFA;\n",
              "      box-shadow: 0px 1px 2px rgba(60, 64, 67, 0.3), 0px 1px 3px 1px rgba(60, 64, 67, 0.15);\n",
              "      fill: #174EA6;\n",
              "    }\n",
              "\n",
              "    [theme=dark] .colab-df-convert {\n",
              "      background-color: #3B4455;\n",
              "      fill: #D2E3FC;\n",
              "    }\n",
              "\n",
              "    [theme=dark] .colab-df-convert:hover {\n",
              "      background-color: #434B5C;\n",
              "      box-shadow: 0px 1px 3px 1px rgba(0, 0, 0, 0.15);\n",
              "      filter: drop-shadow(0px 1px 2px rgba(0, 0, 0, 0.3));\n",
              "      fill: #FFFFFF;\n",
              "    }\n",
              "  </style>\n",
              "\n",
              "      <script>\n",
              "        const buttonEl =\n",
              "          document.querySelector('#df-2e345a0b-9b04-464a-b347-8ee5877ff80a button.colab-df-convert');\n",
              "        buttonEl.style.display =\n",
              "          google.colab.kernel.accessAllowed ? 'block' : 'none';\n",
              "\n",
              "        async function convertToInteractive(key) {\n",
              "          const element = document.querySelector('#df-2e345a0b-9b04-464a-b347-8ee5877ff80a');\n",
              "          const dataTable =\n",
              "            await google.colab.kernel.invokeFunction('convertToInteractive',\n",
              "                                                     [key], {});\n",
              "          if (!dataTable) return;\n",
              "\n",
              "          const docLinkHtml = 'Like what you see? Visit the ' +\n",
              "            '<a target=\"_blank\" href=https://colab.research.google.com/notebooks/data_table.ipynb>data table notebook</a>'\n",
              "            + ' to learn more about interactive tables.';\n",
              "          element.innerHTML = '';\n",
              "          dataTable['output_type'] = 'display_data';\n",
              "          await google.colab.output.renderOutput(dataTable, element);\n",
              "          const docLink = document.createElement('div');\n",
              "          docLink.innerHTML = docLinkHtml;\n",
              "          element.appendChild(docLink);\n",
              "        }\n",
              "      </script>\n",
              "    </div>\n",
              "  </div>\n",
              "  "
            ]
          },
          "metadata": {},
          "execution_count": 10
        }
      ]
    },
    {
      "cell_type": "markdown",
      "source": [
        "#classification tasks need numerical features.so convert string into vector format using 1.function to split words from a sentence into list 2.remove stopwords \n",
        "#to explore bag of words check site machinelearning mastery.com"
      ],
      "metadata": {
        "id": "w5nziVbW5jC9"
      }
    },
    {
      "cell_type": "code",
      "source": [
        "import string"
      ],
      "metadata": {
        "id": "BmmbECeb5Jvw"
      },
      "execution_count": 12,
      "outputs": []
    },
    {
      "cell_type": "code",
      "source": [
        "#removing punctuations\n",
        "mess=\"sample message! notice: it has punctuation.\""
      ],
      "metadata": {
        "id": "FMIB0WFj6cRB"
      },
      "execution_count": 13,
      "outputs": []
    },
    {
      "cell_type": "code",
      "source": [
        "string.punctuation"
      ],
      "metadata": {
        "colab": {
          "base_uri": "https://localhost:8080/",
          "height": 35
        },
        "id": "BLhzOXco6rqH",
        "outputId": "d1cde909-438c-4c81-b9b8-374c6b9c2fa9"
      },
      "execution_count": 14,
      "outputs": [
        {
          "output_type": "execute_result",
          "data": {
            "text/plain": [
              "'!\"#$%&\\'()*+,-./:;<=>?@[\\\\]^_`{|}~'"
            ],
            "application/vnd.google.colaboratory.intrinsic+json": {
              "type": "string"
            }
          },
          "metadata": {},
          "execution_count": 14
        }
      ]
    },
    {
      "cell_type": "code",
      "source": [
        "nonpunc=[c for c in mess if c not in string.punctuation]"
      ],
      "metadata": {
        "id": "BfTYvyE264Fk"
      },
      "execution_count": 15,
      "outputs": []
    },
    {
      "cell_type": "code",
      "source": [
        "nonpunc"
      ],
      "metadata": {
        "colab": {
          "base_uri": "https://localhost:8080/"
        },
        "id": "Hjh_8ihZ6_nX",
        "outputId": "6c2bd3a8-76b2-4072-b4f4-15f4bcc44783"
      },
      "execution_count": 16,
      "outputs": [
        {
          "output_type": "execute_result",
          "data": {
            "text/plain": [
              "['s',\n",
              " 'a',\n",
              " 'm',\n",
              " 'p',\n",
              " 'l',\n",
              " 'e',\n",
              " ' ',\n",
              " 'm',\n",
              " 'e',\n",
              " 's',\n",
              " 's',\n",
              " 'a',\n",
              " 'g',\n",
              " 'e',\n",
              " ' ',\n",
              " 'n',\n",
              " 'o',\n",
              " 't',\n",
              " 'i',\n",
              " 'c',\n",
              " 'e',\n",
              " ' ',\n",
              " 'i',\n",
              " 't',\n",
              " ' ',\n",
              " 'h',\n",
              " 'a',\n",
              " 's',\n",
              " ' ',\n",
              " 'p',\n",
              " 'u',\n",
              " 'n',\n",
              " 'c',\n",
              " 't',\n",
              " 'u',\n",
              " 'a',\n",
              " 't',\n",
              " 'i',\n",
              " 'o',\n",
              " 'n']"
            ]
          },
          "metadata": {},
          "execution_count": 16
        }
      ]
    },
    {
      "cell_type": "code",
      "source": [
        "nonpunc=\"\".join(nonpunc)"
      ],
      "metadata": {
        "id": "8pMlsxGH7BTX"
      },
      "execution_count": 17,
      "outputs": []
    },
    {
      "cell_type": "code",
      "source": [
        "nonpunc"
      ],
      "metadata": {
        "colab": {
          "base_uri": "https://localhost:8080/",
          "height": 35
        },
        "id": "5vq8xYdK7XO9",
        "outputId": "145ea934-590b-4198-fd3c-e8aa2ea6ddd6"
      },
      "execution_count": 18,
      "outputs": [
        {
          "output_type": "execute_result",
          "data": {
            "text/plain": [
              "'sample message notice it has punctuation'"
            ],
            "application/vnd.google.colaboratory.intrinsic+json": {
              "type": "string"
            }
          },
          "metadata": {},
          "execution_count": 18
        }
      ]
    },
    {
      "cell_type": "code",
      "source": [
        "from nltk.corpus import stopwords"
      ],
      "metadata": {
        "id": "Sd5Zlr2g7YOG"
      },
      "execution_count": 19,
      "outputs": []
    },
    {
      "cell_type": "code",
      "source": [
        "nltk.download(\"stopwords\")"
      ],
      "metadata": {
        "id": "HoOU-KMrnPX_",
        "outputId": "a832e944-1e22-4943-8981-25b74ddbd478",
        "colab": {
          "base_uri": "https://localhost:8080/"
        }
      },
      "execution_count": 24,
      "outputs": [
        {
          "output_type": "stream",
          "name": "stderr",
          "text": [
            "[nltk_data] Downloading package stopwords to /root/nltk_data...\n",
            "[nltk_data]   Unzipping corpora/stopwords.zip.\n"
          ]
        },
        {
          "output_type": "execute_result",
          "data": {
            "text/plain": [
              "True"
            ]
          },
          "metadata": {},
          "execution_count": 24
        }
      ]
    },
    {
      "cell_type": "code",
      "source": [
        "nonpunc.split()"
      ],
      "metadata": {
        "colab": {
          "base_uri": "https://localhost:8080/"
        },
        "id": "n-UaMA0F8GgH",
        "outputId": "5305f17a-2f70-4312-be9e-dc46df6fb5ba"
      },
      "execution_count": 25,
      "outputs": [
        {
          "output_type": "execute_result",
          "data": {
            "text/plain": [
              "['sample', 'message', 'notice', 'it', 'has', 'punctuation']"
            ]
          },
          "metadata": {},
          "execution_count": 25
        }
      ]
    },
    {
      "cell_type": "code",
      "source": [
        "clean_mess=[word for word in nonpunc.split() if word.lower() not in stopwords.words(\"english\")]"
      ],
      "metadata": {
        "id": "UrMfYQJ08Jtu"
      },
      "execution_count": 26,
      "outputs": []
    },
    {
      "cell_type": "code",
      "source": [
        "clean_mess"
      ],
      "metadata": {
        "colab": {
          "base_uri": "https://localhost:8080/"
        },
        "id": "_G2eMEET9luN",
        "outputId": "dd513aee-d53e-4539-af0b-3720449f7872"
      },
      "execution_count": 27,
      "outputs": [
        {
          "output_type": "execute_result",
          "data": {
            "text/plain": [
              "['sample', 'message', 'notice', 'punctuation']"
            ]
          },
          "metadata": {},
          "execution_count": 27
        }
      ]
    },
    {
      "cell_type": "code",
      "source": [
        "def text_process(mess):\n",
        "  nonpunc=[c for c in mess if c not in string.punctuation]\n",
        "  nonpunc=\"\".join(nonpunc)\n",
        "  return[word for word in nonpunc.split()if word.lower() not in stopwords.words(\"english\")]"
      ],
      "metadata": {
        "id": "kiz8XwHs9nP0"
      },
      "execution_count": 28,
      "outputs": []
    },
    {
      "cell_type": "code",
      "source": [
        "messages.head()"
      ],
      "metadata": {
        "colab": {
          "base_uri": "https://localhost:8080/",
          "height": 206
        },
        "id": "gQqfmmid_G88",
        "outputId": "f834f795-0a4f-4434-c5f9-338be2298b8b"
      },
      "execution_count": 29,
      "outputs": [
        {
          "output_type": "execute_result",
          "data": {
            "text/plain": [
              "  label                                            message\n",
              "0   ham  Go until jurong point, crazy.. Available only ...\n",
              "1   ham                      Ok lar... Joking wif u oni...\n",
              "2  spam  Free entry in 2 a wkly comp to win FA Cup fina...\n",
              "3   ham  U dun say so early hor... U c already then say...\n",
              "4   ham  Nah I don't think he goes to usf, he lives aro..."
            ],
            "text/html": [
              "\n",
              "  <div id=\"df-db615d82-50c2-4dce-8713-16ebb681c0b4\">\n",
              "    <div class=\"colab-df-container\">\n",
              "      <div>\n",
              "<style scoped>\n",
              "    .dataframe tbody tr th:only-of-type {\n",
              "        vertical-align: middle;\n",
              "    }\n",
              "\n",
              "    .dataframe tbody tr th {\n",
              "        vertical-align: top;\n",
              "    }\n",
              "\n",
              "    .dataframe thead th {\n",
              "        text-align: right;\n",
              "    }\n",
              "</style>\n",
              "<table border=\"1\" class=\"dataframe\">\n",
              "  <thead>\n",
              "    <tr style=\"text-align: right;\">\n",
              "      <th></th>\n",
              "      <th>label</th>\n",
              "      <th>message</th>\n",
              "    </tr>\n",
              "  </thead>\n",
              "  <tbody>\n",
              "    <tr>\n",
              "      <th>0</th>\n",
              "      <td>ham</td>\n",
              "      <td>Go until jurong point, crazy.. Available only ...</td>\n",
              "    </tr>\n",
              "    <tr>\n",
              "      <th>1</th>\n",
              "      <td>ham</td>\n",
              "      <td>Ok lar... Joking wif u oni...</td>\n",
              "    </tr>\n",
              "    <tr>\n",
              "      <th>2</th>\n",
              "      <td>spam</td>\n",
              "      <td>Free entry in 2 a wkly comp to win FA Cup fina...</td>\n",
              "    </tr>\n",
              "    <tr>\n",
              "      <th>3</th>\n",
              "      <td>ham</td>\n",
              "      <td>U dun say so early hor... U c already then say...</td>\n",
              "    </tr>\n",
              "    <tr>\n",
              "      <th>4</th>\n",
              "      <td>ham</td>\n",
              "      <td>Nah I don't think he goes to usf, he lives aro...</td>\n",
              "    </tr>\n",
              "  </tbody>\n",
              "</table>\n",
              "</div>\n",
              "      <button class=\"colab-df-convert\" onclick=\"convertToInteractive('df-db615d82-50c2-4dce-8713-16ebb681c0b4')\"\n",
              "              title=\"Convert this dataframe to an interactive table.\"\n",
              "              style=\"display:none;\">\n",
              "        \n",
              "  <svg xmlns=\"http://www.w3.org/2000/svg\" height=\"24px\"viewBox=\"0 0 24 24\"\n",
              "       width=\"24px\">\n",
              "    <path d=\"M0 0h24v24H0V0z\" fill=\"none\"/>\n",
              "    <path d=\"M18.56 5.44l.94 2.06.94-2.06 2.06-.94-2.06-.94-.94-2.06-.94 2.06-2.06.94zm-11 1L8.5 8.5l.94-2.06 2.06-.94-2.06-.94L8.5 2.5l-.94 2.06-2.06.94zm10 10l.94 2.06.94-2.06 2.06-.94-2.06-.94-.94-2.06-.94 2.06-2.06.94z\"/><path d=\"M17.41 7.96l-1.37-1.37c-.4-.4-.92-.59-1.43-.59-.52 0-1.04.2-1.43.59L10.3 9.45l-7.72 7.72c-.78.78-.78 2.05 0 2.83L4 21.41c.39.39.9.59 1.41.59.51 0 1.02-.2 1.41-.59l7.78-7.78 2.81-2.81c.8-.78.8-2.07 0-2.86zM5.41 20L4 18.59l7.72-7.72 1.47 1.35L5.41 20z\"/>\n",
              "  </svg>\n",
              "      </button>\n",
              "      \n",
              "  <style>\n",
              "    .colab-df-container {\n",
              "      display:flex;\n",
              "      flex-wrap:wrap;\n",
              "      gap: 12px;\n",
              "    }\n",
              "\n",
              "    .colab-df-convert {\n",
              "      background-color: #E8F0FE;\n",
              "      border: none;\n",
              "      border-radius: 50%;\n",
              "      cursor: pointer;\n",
              "      display: none;\n",
              "      fill: #1967D2;\n",
              "      height: 32px;\n",
              "      padding: 0 0 0 0;\n",
              "      width: 32px;\n",
              "    }\n",
              "\n",
              "    .colab-df-convert:hover {\n",
              "      background-color: #E2EBFA;\n",
              "      box-shadow: 0px 1px 2px rgba(60, 64, 67, 0.3), 0px 1px 3px 1px rgba(60, 64, 67, 0.15);\n",
              "      fill: #174EA6;\n",
              "    }\n",
              "\n",
              "    [theme=dark] .colab-df-convert {\n",
              "      background-color: #3B4455;\n",
              "      fill: #D2E3FC;\n",
              "    }\n",
              "\n",
              "    [theme=dark] .colab-df-convert:hover {\n",
              "      background-color: #434B5C;\n",
              "      box-shadow: 0px 1px 3px 1px rgba(0, 0, 0, 0.15);\n",
              "      filter: drop-shadow(0px 1px 2px rgba(0, 0, 0, 0.3));\n",
              "      fill: #FFFFFF;\n",
              "    }\n",
              "  </style>\n",
              "\n",
              "      <script>\n",
              "        const buttonEl =\n",
              "          document.querySelector('#df-db615d82-50c2-4dce-8713-16ebb681c0b4 button.colab-df-convert');\n",
              "        buttonEl.style.display =\n",
              "          google.colab.kernel.accessAllowed ? 'block' : 'none';\n",
              "\n",
              "        async function convertToInteractive(key) {\n",
              "          const element = document.querySelector('#df-db615d82-50c2-4dce-8713-16ebb681c0b4');\n",
              "          const dataTable =\n",
              "            await google.colab.kernel.invokeFunction('convertToInteractive',\n",
              "                                                     [key], {});\n",
              "          if (!dataTable) return;\n",
              "\n",
              "          const docLinkHtml = 'Like what you see? Visit the ' +\n",
              "            '<a target=\"_blank\" href=https://colab.research.google.com/notebooks/data_table.ipynb>data table notebook</a>'\n",
              "            + ' to learn more about interactive tables.';\n",
              "          element.innerHTML = '';\n",
              "          dataTable['output_type'] = 'display_data';\n",
              "          await google.colab.output.renderOutput(dataTable, element);\n",
              "          const docLink = document.createElement('div');\n",
              "          docLink.innerHTML = docLinkHtml;\n",
              "          element.appendChild(docLink);\n",
              "        }\n",
              "      </script>\n",
              "    </div>\n",
              "  </div>\n",
              "  "
            ]
          },
          "metadata": {},
          "execution_count": 29
        }
      ]
    },
    {
      "cell_type": "code",
      "source": [
        "text_process(messages.message)"
      ],
      "metadata": {
        "colab": {
          "base_uri": "https://localhost:8080/"
        },
        "id": "wg1ZC1_M_KiE",
        "outputId": "e73e8be8-2747-4a18-a446-5c1735e3011b"
      },
      "execution_count": 30,
      "outputs": [
        {
          "output_type": "execute_result",
          "data": {
            "text/plain": [
              "['Go',\n",
              " 'jurong',\n",
              " 'point,',\n",
              " 'crazy..',\n",
              " 'Available',\n",
              " 'bugis',\n",
              " 'n',\n",
              " 'great',\n",
              " 'world',\n",
              " 'la',\n",
              " 'e',\n",
              " 'buffet...',\n",
              " 'Cine',\n",
              " 'got',\n",
              " 'amore',\n",
              " 'wat...Ok',\n",
              " 'lar...',\n",
              " 'Joking',\n",
              " 'wif',\n",
              " 'u',\n",
              " 'oni...Free',\n",
              " 'entry',\n",
              " '2',\n",
              " 'wkly',\n",
              " 'comp',\n",
              " 'win',\n",
              " 'FA',\n",
              " 'Cup',\n",
              " 'final',\n",
              " 'tkts',\n",
              " '21st',\n",
              " 'May',\n",
              " '2005.',\n",
              " 'Text',\n",
              " 'FA',\n",
              " '87121',\n",
              " 'receive',\n",
              " 'entry',\n",
              " 'question(std',\n",
              " 'txt',\n",
              " \"rate)T&C's\",\n",
              " 'apply',\n",
              " \"08452810075over18'sU\",\n",
              " 'dun',\n",
              " 'say',\n",
              " 'early',\n",
              " 'hor...',\n",
              " 'U',\n",
              " 'c',\n",
              " 'already',\n",
              " 'say...Nah',\n",
              " 'think',\n",
              " 'goes',\n",
              " 'usf,',\n",
              " 'lives',\n",
              " 'around',\n",
              " 'thoughFreeMsg',\n",
              " 'Hey',\n",
              " 'darling',\n",
              " '3',\n",
              " \"week's\",\n",
              " 'word',\n",
              " 'back!',\n",
              " \"I'd\",\n",
              " 'like',\n",
              " 'fun',\n",
              " 'still?',\n",
              " 'Tb',\n",
              " 'ok!',\n",
              " 'XxX',\n",
              " 'std',\n",
              " 'chgs',\n",
              " 'send,',\n",
              " '£1.50',\n",
              " 'rcvEven',\n",
              " 'brother',\n",
              " 'like',\n",
              " 'speak',\n",
              " 'me.',\n",
              " 'treat',\n",
              " 'like',\n",
              " 'aids',\n",
              " 'patent.As',\n",
              " 'per',\n",
              " 'request',\n",
              " \"'Melle\",\n",
              " 'Melle',\n",
              " '(Oru',\n",
              " 'Minnaminunginte',\n",
              " 'Nurungu',\n",
              " \"Vettam)'\",\n",
              " 'set',\n",
              " 'callertune',\n",
              " 'Callers.',\n",
              " 'Press',\n",
              " '*9',\n",
              " 'copy',\n",
              " 'friends',\n",
              " 'CallertuneWINNER!!',\n",
              " 'valued',\n",
              " 'network',\n",
              " 'customer',\n",
              " 'selected',\n",
              " 'receivea',\n",
              " '£900',\n",
              " 'prize',\n",
              " 'reward!',\n",
              " 'claim',\n",
              " 'call',\n",
              " '09061701461.',\n",
              " 'Claim',\n",
              " 'code',\n",
              " 'KL341.',\n",
              " 'Valid',\n",
              " '12',\n",
              " 'hours',\n",
              " 'only.Had',\n",
              " 'mobile',\n",
              " '11',\n",
              " 'months',\n",
              " 'more?',\n",
              " 'U',\n",
              " 'R',\n",
              " 'entitled',\n",
              " 'Update',\n",
              " 'latest',\n",
              " 'colour',\n",
              " 'mobiles',\n",
              " 'camera',\n",
              " 'Free!',\n",
              " 'Call',\n",
              " 'Mobile',\n",
              " 'Update',\n",
              " 'Co',\n",
              " 'FREE',\n",
              " \"08002986030I'm\",\n",
              " 'gonna',\n",
              " 'home',\n",
              " 'soon',\n",
              " 'want',\n",
              " 'talk',\n",
              " 'stuff',\n",
              " 'anymore',\n",
              " 'tonight,',\n",
              " 'k?',\n",
              " \"I've\",\n",
              " 'cried',\n",
              " 'enough',\n",
              " 'today.SIX',\n",
              " 'chances',\n",
              " 'win',\n",
              " 'CASH!',\n",
              " '100',\n",
              " '20,000',\n",
              " 'pounds',\n",
              " 'txt>',\n",
              " 'CSH11',\n",
              " 'send',\n",
              " '87575.',\n",
              " 'Cost',\n",
              " '150p/day,',\n",
              " '6days,',\n",
              " '16+',\n",
              " 'TsandCs',\n",
              " 'apply',\n",
              " 'Reply',\n",
              " 'HL',\n",
              " '4',\n",
              " 'infoURGENT!',\n",
              " '1',\n",
              " 'week',\n",
              " 'FREE',\n",
              " 'membership',\n",
              " '£100,000',\n",
              " 'Prize',\n",
              " 'Jackpot!',\n",
              " 'Txt',\n",
              " 'word:',\n",
              " 'CLAIM',\n",
              " 'No:',\n",
              " '81010',\n",
              " 'T&C',\n",
              " 'www.dbuk.net',\n",
              " 'LCCLTD',\n",
              " 'POBOX',\n",
              " \"4403LDNW1A7RW18I've\",\n",
              " 'searching',\n",
              " 'right',\n",
              " 'words',\n",
              " 'thank',\n",
              " 'breather.',\n",
              " 'promise',\n",
              " 'wont',\n",
              " 'take',\n",
              " 'help',\n",
              " 'granted',\n",
              " 'fulfil',\n",
              " 'promise.',\n",
              " 'wonderful',\n",
              " 'blessing',\n",
              " 'times.I',\n",
              " 'DATE',\n",
              " 'SUNDAY',\n",
              " 'WILL!!XXXMobileMovieClub:',\n",
              " 'use',\n",
              " 'credit,',\n",
              " 'click',\n",
              " 'WAP',\n",
              " 'link',\n",
              " 'next',\n",
              " 'txt',\n",
              " 'message',\n",
              " 'click',\n",
              " 'here>>',\n",
              " 'http://wap.',\n",
              " 'xxxmobilemovieclub.com?n=QJKGIGHJJGCBLOh',\n",
              " \"k...i'm\",\n",
              " 'watching',\n",
              " 'here:)Eh',\n",
              " 'u',\n",
              " 'remember',\n",
              " '2',\n",
              " 'spell',\n",
              " 'name...',\n",
              " 'Yes',\n",
              " 'did.',\n",
              " 'v',\n",
              " 'naughty',\n",
              " 'make',\n",
              " 'v',\n",
              " 'wet.Fine',\n",
              " 'that\\x92s',\n",
              " 'way',\n",
              " 'u',\n",
              " 'feel.',\n",
              " 'That\\x92s',\n",
              " 'way',\n",
              " 'gota',\n",
              " 'bEngland',\n",
              " 'v',\n",
              " 'Macedonia',\n",
              " '-',\n",
              " 'dont',\n",
              " 'miss',\n",
              " 'goals/team',\n",
              " 'news.',\n",
              " 'Txt',\n",
              " 'ur',\n",
              " 'national',\n",
              " 'team',\n",
              " '87077',\n",
              " 'eg',\n",
              " 'ENGLAND',\n",
              " '87077',\n",
              " 'Try:WALES,',\n",
              " 'SCOTLAND',\n",
              " '4txt/ú1.20',\n",
              " 'POBOXox36504W45WQ',\n",
              " '16+Is',\n",
              " 'seriously',\n",
              " 'spell',\n",
              " 'name?I‘m',\n",
              " 'going',\n",
              " 'try',\n",
              " '2',\n",
              " 'months',\n",
              " 'ha',\n",
              " 'ha',\n",
              " 'jokingSo',\n",
              " 'ü',\n",
              " 'pay',\n",
              " 'first',\n",
              " 'lar...',\n",
              " 'da',\n",
              " 'stock',\n",
              " 'comin...Aft',\n",
              " 'finish',\n",
              " 'lunch',\n",
              " 'go',\n",
              " 'str',\n",
              " 'lor.',\n",
              " 'Ard',\n",
              " '3',\n",
              " 'smth',\n",
              " 'lor.',\n",
              " 'U',\n",
              " 'finish',\n",
              " 'ur',\n",
              " 'lunch',\n",
              " 'already?Ffffffffff.',\n",
              " 'Alright',\n",
              " 'way',\n",
              " 'meet',\n",
              " 'sooner?Just',\n",
              " 'forced',\n",
              " 'eat',\n",
              " 'slice.',\n",
              " \"I'm\",\n",
              " 'really',\n",
              " 'hungry',\n",
              " 'tho.',\n",
              " 'sucks.',\n",
              " 'Mark',\n",
              " 'getting',\n",
              " 'worried.',\n",
              " 'knows',\n",
              " \"I'm\",\n",
              " 'sick',\n",
              " 'turn',\n",
              " 'pizza.',\n",
              " 'LolLol',\n",
              " 'always',\n",
              " 'convincing.Did',\n",
              " 'catch',\n",
              " 'bus',\n",
              " '?',\n",
              " 'frying',\n",
              " 'egg',\n",
              " '?',\n",
              " 'make',\n",
              " 'tea?',\n",
              " 'eating',\n",
              " \"mom's\",\n",
              " 'left',\n",
              " 'dinner',\n",
              " '?',\n",
              " 'feel',\n",
              " 'Love',\n",
              " \"?I'm\",\n",
              " 'back',\n",
              " '&amp;',\n",
              " \"we're\",\n",
              " 'packing',\n",
              " 'car',\n",
              " 'now,',\n",
              " \"I'll\",\n",
              " 'let',\n",
              " 'know',\n",
              " \"there's\",\n",
              " 'roomAhhh.',\n",
              " 'Work.',\n",
              " 'vaguely',\n",
              " 'remember',\n",
              " 'that!',\n",
              " 'feel',\n",
              " 'like?',\n",
              " 'LolWait',\n",
              " \"that's\",\n",
              " 'still',\n",
              " 'clear,',\n",
              " 'sure',\n",
              " 'sarcastic',\n",
              " \"that's\",\n",
              " 'x',\n",
              " 'want',\n",
              " 'live',\n",
              " 'usYeah',\n",
              " 'got',\n",
              " '2',\n",
              " 'v',\n",
              " 'apologetic.',\n",
              " 'n',\n",
              " 'fallen',\n",
              " 'actin',\n",
              " 'like',\n",
              " 'spoilt',\n",
              " 'child',\n",
              " 'got',\n",
              " 'caught',\n",
              " 'that.',\n",
              " 'Till',\n",
              " '2!',\n",
              " 'go',\n",
              " 'there!',\n",
              " 'badly',\n",
              " 'cheers.',\n",
              " 'You?',\n",
              " 'K',\n",
              " 'tell',\n",
              " 'anything',\n",
              " 'you.For',\n",
              " 'fear',\n",
              " 'fainting',\n",
              " 'housework',\n",
              " 'did?',\n",
              " 'Quick',\n",
              " 'cuppaThanks',\n",
              " 'subscription',\n",
              " 'Ringtone',\n",
              " 'UK',\n",
              " 'mobile',\n",
              " 'charged',\n",
              " '£5/month',\n",
              " 'Please',\n",
              " 'confirm',\n",
              " 'replying',\n",
              " 'YES',\n",
              " 'NO.',\n",
              " 'reply',\n",
              " 'chargedYup...',\n",
              " 'Ok',\n",
              " 'go',\n",
              " 'home',\n",
              " 'look',\n",
              " 'timings',\n",
              " 'msg',\n",
              " 'ü',\n",
              " 'again...',\n",
              " 'Xuhui',\n",
              " 'going',\n",
              " 'learn',\n",
              " '2nd',\n",
              " 'may',\n",
              " 'lesson',\n",
              " '8amOops,',\n",
              " \"I'll\",\n",
              " 'let',\n",
              " 'know',\n",
              " \"roommate's\",\n",
              " 'doneI',\n",
              " 'see',\n",
              " 'letter',\n",
              " 'B',\n",
              " 'carAnything',\n",
              " 'lor...',\n",
              " 'U',\n",
              " 'decide...Hello!',\n",
              " \"How's\",\n",
              " 'saturday',\n",
              " 'go?',\n",
              " 'texting',\n",
              " 'see',\n",
              " 'decided',\n",
              " 'anything',\n",
              " 'tomo.',\n",
              " \"i'm\",\n",
              " 'trying',\n",
              " 'invite',\n",
              " 'anything!Pls',\n",
              " 'go',\n",
              " 'ahead',\n",
              " 'watts.',\n",
              " 'wanted',\n",
              " 'sure.',\n",
              " 'great',\n",
              " 'weekend.',\n",
              " 'AbiolaDid',\n",
              " 'forget',\n",
              " 'tell',\n",
              " '?',\n",
              " 'want',\n",
              " ',',\n",
              " 'need',\n",
              " 'you,',\n",
              " 'crave',\n",
              " '...',\n",
              " '...',\n",
              " 'love',\n",
              " 'sweet',\n",
              " 'Arabian',\n",
              " 'steed',\n",
              " '...',\n",
              " 'Mmmmmm',\n",
              " '...',\n",
              " 'Yummy07732584351',\n",
              " '-',\n",
              " 'Rodger',\n",
              " 'Burns',\n",
              " '-',\n",
              " 'MSG',\n",
              " '=',\n",
              " 'tried',\n",
              " 'call',\n",
              " 'reply',\n",
              " 'sms',\n",
              " 'free',\n",
              " 'nokia',\n",
              " 'mobile',\n",
              " '+',\n",
              " 'free',\n",
              " 'camcorder.',\n",
              " 'Please',\n",
              " 'call',\n",
              " '08000930705',\n",
              " 'delivery',\n",
              " 'tomorrowWHO',\n",
              " 'SEEING?Great!',\n",
              " 'hope',\n",
              " 'like',\n",
              " 'man',\n",
              " 'well',\n",
              " 'endowed.',\n",
              " '&lt;#&gt;',\n",
              " 'inches...No',\n",
              " 'calls..messages..missed',\n",
              " \"callsDidn't\",\n",
              " 'get',\n",
              " 'hep',\n",
              " 'b',\n",
              " 'immunisation',\n",
              " 'nigeria.Fair',\n",
              " 'enough,',\n",
              " 'anything',\n",
              " 'going',\n",
              " 'on?Yeah',\n",
              " 'hopefully,',\n",
              " 'tyler',\n",
              " \"can't\",\n",
              " 'could',\n",
              " 'maybe',\n",
              " 'ask',\n",
              " 'around',\n",
              " 'bitU',\n",
              " 'know',\n",
              " 'stubborn',\n",
              " 'am.',\n",
              " 'even',\n",
              " 'want',\n",
              " 'go',\n",
              " 'hospital.',\n",
              " 'kept',\n",
              " 'telling',\n",
              " 'Mark',\n",
              " \"I'm\",\n",
              " 'weak',\n",
              " 'sucker.',\n",
              " 'Hospitals',\n",
              " 'weak',\n",
              " 'suckers.What',\n",
              " 'thinked',\n",
              " 'me.',\n",
              " 'First',\n",
              " 'time',\n",
              " 'saw',\n",
              " 'class.A',\n",
              " 'gram',\n",
              " 'usually',\n",
              " 'runs',\n",
              " 'like',\n",
              " '&lt;#&gt;',\n",
              " ',',\n",
              " 'half',\n",
              " 'eighth',\n",
              " 'smarter',\n",
              " 'though',\n",
              " 'gets',\n",
              " 'almost',\n",
              " 'whole',\n",
              " 'second',\n",
              " 'gram',\n",
              " '&lt;#&gt;K',\n",
              " 'fyi',\n",
              " 'x',\n",
              " 'ride',\n",
              " 'early',\n",
              " 'tomorrow',\n",
              " 'morning',\n",
              " \"he's\",\n",
              " 'crashing',\n",
              " 'place',\n",
              " 'tonightWow.',\n",
              " 'never',\n",
              " 'realized',\n",
              " 'embarassed',\n",
              " 'accomodations.',\n",
              " 'thought',\n",
              " 'liked',\n",
              " 'it,',\n",
              " 'since',\n",
              " 'best',\n",
              " 'could',\n",
              " 'always',\n",
              " 'seemed',\n",
              " 'happy',\n",
              " '\"the',\n",
              " 'cave\".',\n",
              " \"I'm\",\n",
              " 'sorry',\n",
              " 'give.',\n",
              " \"I'm\",\n",
              " 'sorry',\n",
              " 'offered.',\n",
              " \"I'm\",\n",
              " 'sorry',\n",
              " 'room',\n",
              " 'embarassing.SMS.',\n",
              " 'ac',\n",
              " 'Sptv:',\n",
              " 'New',\n",
              " 'Jersey',\n",
              " 'Devils',\n",
              " 'Detroit',\n",
              " 'Red',\n",
              " 'Wings',\n",
              " 'play',\n",
              " 'Ice',\n",
              " 'Hockey.',\n",
              " 'Correct',\n",
              " 'Incorrect?',\n",
              " 'End?',\n",
              " 'Reply',\n",
              " 'END',\n",
              " 'SPTVDo',\n",
              " 'know',\n",
              " 'Mallika',\n",
              " 'Sherawat',\n",
              " 'yesterday?',\n",
              " 'Find',\n",
              " '@',\n",
              " '&lt;URL&gt;Congrats!',\n",
              " '1',\n",
              " 'year',\n",
              " 'special',\n",
              " 'cinema',\n",
              " 'pass',\n",
              " '2',\n",
              " 'yours.',\n",
              " 'call',\n",
              " '09061209465',\n",
              " 'now!',\n",
              " 'C',\n",
              " 'Suprman',\n",
              " 'V,',\n",
              " 'Matrix3,',\n",
              " 'StarWars3,',\n",
              " 'etc',\n",
              " '4',\n",
              " 'FREE!',\n",
              " 'bx420-ip4-5we.',\n",
              " '150pm.',\n",
              " 'Dont',\n",
              " 'miss',\n",
              " 'out!',\n",
              " 'Sorry,',\n",
              " \"I'll\",\n",
              " 'call',\n",
              " 'later',\n",
              " 'meeting.Tell',\n",
              " 'reachedYes..gauti',\n",
              " 'sehwag',\n",
              " 'odi',\n",
              " 'series.Your',\n",
              " 'gonna',\n",
              " 'pick',\n",
              " '$1',\n",
              " 'burger',\n",
              " 'way',\n",
              " 'home.',\n",
              " \"can't\",\n",
              " 'even',\n",
              " 'move.',\n",
              " 'Pain',\n",
              " 'killing',\n",
              " 'me.Ha',\n",
              " 'ha',\n",
              " 'ha',\n",
              " 'good',\n",
              " 'joke.',\n",
              " 'Girls',\n",
              " 'situation',\n",
              " 'seekers.Its',\n",
              " 'part',\n",
              " 'checking',\n",
              " 'IQSorry',\n",
              " 'roommates',\n",
              " 'took',\n",
              " 'forever,',\n",
              " 'ok',\n",
              " 'come',\n",
              " 'now?Ok',\n",
              " 'lar',\n",
              " 'double',\n",
              " 'check',\n",
              " 'wif',\n",
              " 'da',\n",
              " 'hair',\n",
              " 'dresser',\n",
              " 'already',\n",
              " 'said',\n",
              " 'wun',\n",
              " 'cut',\n",
              " 'v',\n",
              " 'short.',\n",
              " 'said',\n",
              " 'cut',\n",
              " 'look',\n",
              " 'nice.As',\n",
              " 'valued',\n",
              " 'customer,',\n",
              " 'pleased',\n",
              " 'advise',\n",
              " 'following',\n",
              " 'recent',\n",
              " 'review',\n",
              " 'Mob',\n",
              " 'No.',\n",
              " 'awarded',\n",
              " '£1500',\n",
              " 'Bonus',\n",
              " 'Prize,',\n",
              " 'call',\n",
              " '09066364589Today',\n",
              " '\"song',\n",
              " 'dedicated',\n",
              " 'day..\"',\n",
              " 'song',\n",
              " 'u',\n",
              " 'dedicate',\n",
              " 'me?',\n",
              " 'Send',\n",
              " 'ur',\n",
              " 'valuable',\n",
              " 'frnds',\n",
              " 'first',\n",
              " 'rply',\n",
              " 'me...Urgent',\n",
              " 'UR',\n",
              " 'awarded',\n",
              " 'complimentary',\n",
              " 'trip',\n",
              " 'EuroDisinc',\n",
              " 'Trav,',\n",
              " 'Aco&Entry41',\n",
              " '£1000.',\n",
              " 'claim',\n",
              " 'txt',\n",
              " 'DIS',\n",
              " '87121',\n",
              " '18+6*£1.50(moreFrmMob.',\n",
              " 'ShrAcomOrSglSuplt)10,',\n",
              " 'LS1',\n",
              " '3AJDid',\n",
              " 'hear',\n",
              " 'new',\n",
              " '\"Divorce',\n",
              " 'Barbie\"?',\n",
              " 'comes',\n",
              " \"Ken's\",\n",
              " 'stuff!I',\n",
              " 'plane',\n",
              " 'give',\n",
              " 'month',\n",
              " 'end.Wah',\n",
              " 'lucky',\n",
              " 'man...',\n",
              " 'save',\n",
              " 'money...',\n",
              " 'Hee...Finished',\n",
              " 'class',\n",
              " 'you.HI',\n",
              " 'BABE',\n",
              " 'IM',\n",
              " 'HOME',\n",
              " 'WANNA',\n",
              " 'SOMETHING?',\n",
              " 'XXK..k:)where',\n",
              " 'you?how',\n",
              " 'performed?U',\n",
              " 'call',\n",
              " 'now...I',\n",
              " 'waiting',\n",
              " 'machan.',\n",
              " 'Call',\n",
              " 'free.Thats',\n",
              " 'cool.',\n",
              " 'gentleman',\n",
              " 'treat',\n",
              " 'dignity',\n",
              " 'respect.I',\n",
              " 'like',\n",
              " 'peoples',\n",
              " 'much:)',\n",
              " 'shy',\n",
              " 'pa.Does',\n",
              " 'operate',\n",
              " '&lt;#&gt;',\n",
              " 'whatIts',\n",
              " 'here.',\n",
              " 'Still',\n",
              " 'looking',\n",
              " 'job.',\n",
              " 'much',\n",
              " \"Ta's\",\n",
              " 'earn',\n",
              " 'there.Sorry,',\n",
              " \"I'll\",\n",
              " 'call',\n",
              " 'laterK.',\n",
              " 'call',\n",
              " 'ah?',\n",
              " 'Ok',\n",
              " 'way',\n",
              " 'home',\n",
              " 'hi',\n",
              " 'hiYou',\n",
              " 'place',\n",
              " 'manYup',\n",
              " 'next',\n",
              " 'stop.I',\n",
              " 'call',\n",
              " 'later,',\n",
              " 'network.',\n",
              " 'urgnt,',\n",
              " 'sms',\n",
              " 'me.For',\n",
              " 'real',\n",
              " 'u',\n",
              " 'getting',\n",
              " 'yo?',\n",
              " 'need',\n",
              " '2',\n",
              " 'tickets',\n",
              " 'one',\n",
              " 'jacket',\n",
              " \"I'm\",\n",
              " 'done.',\n",
              " 'already',\n",
              " 'used',\n",
              " 'multis.Yes',\n",
              " 'started',\n",
              " 'send',\n",
              " 'requests',\n",
              " 'make',\n",
              " 'pain',\n",
              " 'came',\n",
              " 'back',\n",
              " \"I'm\",\n",
              " 'back',\n",
              " 'bed.',\n",
              " 'Double',\n",
              " 'coins',\n",
              " 'factory',\n",
              " 'too.',\n",
              " 'gotta',\n",
              " 'cash',\n",
              " \"nitros.I'm\",\n",
              " 'really',\n",
              " 'still',\n",
              " 'tonight',\n",
              " 'babeEla',\n",
              " 'kano.,il',\n",
              " 'download,',\n",
              " 'come',\n",
              " 'wen',\n",
              " 'ur',\n",
              " 'free..Yeah',\n",
              " 'do!',\n",
              " 'Don‘t',\n",
              " 'stand',\n",
              " 'close',\n",
              " 'tho-',\n",
              " 'you‘ll',\n",
              " 'catch',\n",
              " 'something!Sorry',\n",
              " 'pain.',\n",
              " 'ok',\n",
              " 'meet',\n",
              " 'another',\n",
              " 'night?',\n",
              " 'spent',\n",
              " 'late',\n",
              " 'afternoon',\n",
              " 'casualty',\n",
              " 'means',\n",
              " 'done',\n",
              " 'stuff42moro',\n",
              " 'includes',\n",
              " 'time',\n",
              " 'sheets',\n",
              " 'that.',\n",
              " 'Sorry.',\n",
              " 'Smile',\n",
              " 'Pleasure',\n",
              " 'Smile',\n",
              " 'Pain',\n",
              " 'Smile',\n",
              " 'trouble',\n",
              " 'pours',\n",
              " 'like',\n",
              " 'Rain',\n",
              " 'Smile',\n",
              " 'sum1',\n",
              " 'Hurts',\n",
              " 'U',\n",
              " 'Smile',\n",
              " 'becoz',\n",
              " 'SOMEONE',\n",
              " 'still',\n",
              " 'Loves',\n",
              " 'see',\n",
              " 'u',\n",
              " 'Smiling!!Please',\n",
              " 'call',\n",
              " 'customer',\n",
              " 'service',\n",
              " 'representative',\n",
              " '0800',\n",
              " '169',\n",
              " '6031',\n",
              " '10am-9pm',\n",
              " 'guaranteed',\n",
              " '£1000',\n",
              " 'cash',\n",
              " '£5000',\n",
              " 'prize!Havent',\n",
              " 'planning',\n",
              " 'buy',\n",
              " 'later.',\n",
              " 'check',\n",
              " 'already',\n",
              " 'lido',\n",
              " 'got',\n",
              " '530',\n",
              " 'show',\n",
              " 'e',\n",
              " 'afternoon.',\n",
              " 'U',\n",
              " 'finish',\n",
              " 'work',\n",
              " 'already?Your',\n",
              " 'free',\n",
              " 'ringtone',\n",
              " 'waiting',\n",
              " 'collected.',\n",
              " 'Simply',\n",
              " 'text',\n",
              " 'password',\n",
              " '\"MIX\"',\n",
              " '85069',\n",
              " 'verify.',\n",
              " 'Get',\n",
              " 'Usher',\n",
              " 'Britney.',\n",
              " 'FML,',\n",
              " 'PO',\n",
              " 'Box',\n",
              " '5249,',\n",
              " 'MK17',\n",
              " '92H.',\n",
              " '450Ppw',\n",
              " '16Watching',\n",
              " 'telugu',\n",
              " 'movie..wat',\n",
              " 'abt',\n",
              " 'u?i',\n",
              " 'see.',\n",
              " 'finish',\n",
              " 'loads',\n",
              " 'loans',\n",
              " 'payHi.',\n",
              " 'Wk',\n",
              " 'ok',\n",
              " '-',\n",
              " 'hols',\n",
              " 'now!',\n",
              " 'Yes',\n",
              " 'bit',\n",
              " 'run.',\n",
              " 'Forgot',\n",
              " 'hairdressers',\n",
              " 'appointment',\n",
              " 'four',\n",
              " 'need',\n",
              " 'get',\n",
              " 'home',\n",
              " 'n',\n",
              " 'shower',\n",
              " 'beforehand.',\n",
              " 'cause',\n",
              " 'prob',\n",
              " 'u?\"I',\n",
              " 'see',\n",
              " 'cup',\n",
              " 'coffee',\n",
              " 'animationPlease',\n",
              " 'text',\n",
              " 'anymore.',\n",
              " 'nothing',\n",
              " 'else',\n",
              " 'say.Okay',\n",
              " 'name',\n",
              " 'ur',\n",
              " 'price',\n",
              " 'long',\n",
              " 'legal!',\n",
              " 'Wen',\n",
              " 'pick',\n",
              " 'up?',\n",
              " 'u',\n",
              " 'ave',\n",
              " 'x',\n",
              " 'ams',\n",
              " \"xxI'm\",\n",
              " 'still',\n",
              " 'looking',\n",
              " 'car',\n",
              " 'buy.',\n",
              " 'gone',\n",
              " '4the',\n",
              " 'driving',\n",
              " ...]"
            ]
          },
          "metadata": {},
          "execution_count": 30
        }
      ]
    },
    {
      "cell_type": "code",
      "source": [
        "messages['message'].head(5).apply(text_process)"
      ],
      "metadata": {
        "colab": {
          "base_uri": "https://localhost:8080/"
        },
        "id": "q8-kAj_V_c8W",
        "outputId": "4b9852c2-1172-4438-cdc4-06e5a5ae2425"
      },
      "execution_count": 31,
      "outputs": [
        {
          "output_type": "execute_result",
          "data": {
            "text/plain": [
              "0    [Go, jurong, point, crazy, Available, bugis, n...\n",
              "1                       [Ok, lar, Joking, wif, u, oni]\n",
              "2    [Free, entry, 2, wkly, comp, win, FA, Cup, fin...\n",
              "3        [U, dun, say, early, hor, U, c, already, say]\n",
              "4    [Nah, dont, think, goes, usf, lives, around, t...\n",
              "Name: message, dtype: object"
            ]
          },
          "metadata": {},
          "execution_count": 31
        }
      ]
    },
    {
      "cell_type": "code",
      "source": [
        "from sklearn.feature_extraction.text import CountVectorizer"
      ],
      "metadata": {
        "id": "w9kRI6-I_vNp"
      },
      "execution_count": 32,
      "outputs": []
    },
    {
      "cell_type": "code",
      "source": [
        "bow_transformer=CountVectorizer(analyzer=text_process).fit(messages['message'])"
      ],
      "metadata": {
        "id": "1ltLajb-pFNZ"
      },
      "execution_count": 33,
      "outputs": []
    },
    {
      "cell_type": "code",
      "source": [
        "print(len(bow_transformer.vocabulary_))"
      ],
      "metadata": {
        "id": "q-vzR9OdpOUu",
        "outputId": "df1bdc11-9f92-432f-9bec-45b028368357",
        "colab": {
          "base_uri": "https://localhost:8080/"
        }
      },
      "execution_count": 34,
      "outputs": [
        {
          "output_type": "stream",
          "name": "stdout",
          "text": [
            "11425\n"
          ]
        }
      ]
    },
    {
      "cell_type": "code",
      "source": [
        "mess4=messages['message'][6]"
      ],
      "metadata": {
        "id": "Kyc5edVzpjzR"
      },
      "execution_count": 35,
      "outputs": []
    },
    {
      "cell_type": "code",
      "source": [
        "print(mess4)"
      ],
      "metadata": {
        "id": "RCsFCdSepnjV",
        "outputId": "f0981cbf-fb01-4ec9-9e3c-89b7490599a7",
        "colab": {
          "base_uri": "https://localhost:8080/"
        }
      },
      "execution_count": 36,
      "outputs": [
        {
          "output_type": "stream",
          "name": "stdout",
          "text": [
            "Even my brother is not like to speak with me. They treat me like aids patent.\n"
          ]
        }
      ]
    },
    {
      "cell_type": "code",
      "source": [
        "bow4=bow_transformer.transform([mess4])"
      ],
      "metadata": {
        "id": "UqcWGebqptal"
      },
      "execution_count": 37,
      "outputs": []
    },
    {
      "cell_type": "code",
      "source": [
        "print(bow4)"
      ],
      "metadata": {
        "id": "gd1LTIxEpxKd",
        "outputId": "39657870-740e-4f0a-d984-abeaac853609",
        "colab": {
          "base_uri": "https://localhost:8080/"
        }
      },
      "execution_count": 38,
      "outputs": [
        {
          "output_type": "stream",
          "name": "stdout",
          "text": [
            "  (0, 1802)\t1\n",
            "  (0, 4590)\t1\n",
            "  (0, 5193)\t1\n",
            "  (0, 7800)\t2\n",
            "  (0, 8761)\t1\n",
            "  (0, 9971)\t1\n",
            "  (0, 10629)\t1\n"
          ]
        }
      ]
    },
    {
      "cell_type": "code",
      "source": [
        "bow_transformer.get_feature_names()[7800]"
      ],
      "metadata": {
        "id": "HZ3sGNiIp4do",
        "outputId": "1c21d4d4-7983-4ca7-a55b-939f7ffeda63",
        "colab": {
          "base_uri": "https://localhost:8080/",
          "height": 90
        }
      },
      "execution_count": 39,
      "outputs": [
        {
          "output_type": "stream",
          "name": "stderr",
          "text": [
            "/usr/local/lib/python3.7/dist-packages/sklearn/utils/deprecation.py:87: FutureWarning: Function get_feature_names is deprecated; get_feature_names is deprecated in 1.0 and will be removed in 1.2. Please use get_feature_names_out instead.\n",
            "  warnings.warn(msg, category=FutureWarning)\n"
          ]
        },
        {
          "output_type": "execute_result",
          "data": {
            "text/plain": [
              "'like'"
            ],
            "application/vnd.google.colaboratory.intrinsic+json": {
              "type": "string"
            }
          },
          "metadata": {},
          "execution_count": 39
        }
      ]
    },
    {
      "cell_type": "code",
      "source": [
        "messages_bow=bow_transformer.transform(messages['message'])"
      ],
      "metadata": {
        "id": "EZuOaLdxp6j4"
      },
      "execution_count": 40,
      "outputs": []
    },
    {
      "cell_type": "code",
      "source": [
        "print('shape of Sparse Matrix:',messages_bow.shape)"
      ],
      "metadata": {
        "id": "tcG607Pmqi0H",
        "outputId": "085dd2f0-af21-42e2-e635-34fdea861970",
        "colab": {
          "base_uri": "https://localhost:8080/"
        }
      },
      "execution_count": 41,
      "outputs": [
        {
          "output_type": "stream",
          "name": "stdout",
          "text": [
            "shape of Sparse Matrix: (5572, 11425)\n"
          ]
        }
      ]
    },
    {
      "cell_type": "code",
      "source": [
        "messages_bow.nnz"
      ],
      "metadata": {
        "id": "pHfzkjV0q0vX",
        "outputId": "eee70ab0-4afb-4332-bd2b-8f493d0d86d0",
        "colab": {
          "base_uri": "https://localhost:8080/"
        }
      },
      "execution_count": 42,
      "outputs": [
        {
          "output_type": "execute_result",
          "data": {
            "text/plain": [
              "50548"
            ]
          },
          "metadata": {},
          "execution_count": 42
        }
      ]
    },
    {
      "cell_type": "code",
      "source": [
        "from sklearn.feature_extraction.text import TfidfTransformer"
      ],
      "metadata": {
        "id": "eaeiIhVuq52H"
      },
      "execution_count": 43,
      "outputs": []
    },
    {
      "cell_type": "code",
      "source": [
        "tfidf_transformer=TfidfTransformer().fit(messages_bow)"
      ],
      "metadata": {
        "id": "lm5Ce5fsrbG_"
      },
      "execution_count": 44,
      "outputs": []
    },
    {
      "cell_type": "code",
      "source": [
        "tfidf4=tfidf_transformer.transform(bow4)"
      ],
      "metadata": {
        "id": "JY6xKs9erg3z"
      },
      "execution_count": 45,
      "outputs": []
    },
    {
      "cell_type": "code",
      "source": [
        "print(tfidf4)"
      ],
      "metadata": {
        "id": "y8_Catb1rlYr",
        "outputId": "cc92ce94-b16e-4f77-e147-3a6c763ffd97",
        "colab": {
          "base_uri": "https://localhost:8080/"
        }
      },
      "execution_count": 46,
      "outputs": [
        {
          "output_type": "stream",
          "name": "stdout",
          "text": [
            "  (0, 10629)\t0.3352766696931058\n",
            "  (0, 9971)\t0.3268691780062757\n",
            "  (0, 8761)\t0.43700993321905807\n",
            "  (0, 7800)\t0.41453906826037096\n",
            "  (0, 5193)\t0.33843411088434017\n",
            "  (0, 4590)\t0.43700993321905807\n",
            "  (0, 1802)\t0.3352766696931058\n"
          ]
        }
      ]
    },
    {
      "cell_type": "code",
      "source": [
        "messages_tfidf=tfidf_transformer.transform(messages_bow)"
      ],
      "metadata": {
        "id": "sSRg3ZD_rul3"
      },
      "execution_count": 47,
      "outputs": []
    },
    {
      "cell_type": "code",
      "source": [
        "clf=svm.SVC()"
      ],
      "metadata": {
        "id": "l1gIFOlLubEN"
      },
      "execution_count": 55,
      "outputs": []
    },
    {
      "cell_type": "code",
      "source": [
        "from sklearn import model_selection, naive_bayes, svm"
      ],
      "metadata": {
        "id": "hmQLAwUurwR_"
      },
      "execution_count": 49,
      "outputs": []
    },
    {
      "cell_type": "code",
      "source": [
        "spam_model=clf.fit(messages_tfidf,messages['label'])"
      ],
      "metadata": {
        "id": "qrbDH-GvsbqM"
      },
      "execution_count": 56,
      "outputs": []
    },
    {
      "cell_type": "code",
      "source": [
        "predict=spam_model.predict(messages_tfidf)"
      ],
      "metadata": {
        "id": "Zi4LdijTsgaT"
      },
      "execution_count": 58,
      "outputs": []
    },
    {
      "cell_type": "code",
      "source": [
        "from sklearn.metrics import classification_report\n",
        "print (classification_report(messages['label'], predict))"
      ],
      "metadata": {
        "id": "GdhyzIhhsnh8",
        "outputId": "1cdcfb83-4ec6-4dec-a47b-1068081158a3",
        "colab": {
          "base_uri": "https://localhost:8080/"
        }
      },
      "execution_count": 59,
      "outputs": [
        {
          "output_type": "stream",
          "name": "stdout",
          "text": [
            "              precision    recall  f1-score   support\n",
            "\n",
            "         ham       1.00      1.00      1.00      4825\n",
            "        spam       1.00      0.99      0.99       747\n",
            "\n",
            "    accuracy                           1.00      5572\n",
            "   macro avg       1.00      0.99      1.00      5572\n",
            "weighted avg       1.00      1.00      1.00      5572\n",
            "\n"
          ]
        }
      ]
    },
    {
      "cell_type": "markdown",
      "source": [
        "TRAIN TEST Split"
      ],
      "metadata": {
        "id": "Xx1z0yEQs2QI"
      }
    },
    {
      "cell_type": "code",
      "source": [
        "from sklearn.model_selection import train_test_split\n",
        "\n",
        "msg_train, msg_test, label_train, label_test = \\\n",
        "train_test_split(messages['message'], messages['label'], test_size=0.2)\n",
        "\n"
      ],
      "metadata": {
        "id": "ygaH6eIfsvQX"
      },
      "execution_count": 61,
      "outputs": []
    },
    {
      "cell_type": "code",
      "source": [],
      "metadata": {
        "id": "xBmjY3c6tD8b"
      },
      "execution_count": null,
      "outputs": []
    }
  ]
}